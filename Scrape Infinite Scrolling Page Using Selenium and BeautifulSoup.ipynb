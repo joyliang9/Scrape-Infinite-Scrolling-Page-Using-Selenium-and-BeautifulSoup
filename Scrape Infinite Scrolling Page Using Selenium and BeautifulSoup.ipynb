{
 "cells": [
  {
   "cell_type": "code",
   "execution_count": null,
   "id": "89efbbac",
   "metadata": {},
   "outputs": [],
   "source": [
    "# Install Packages\n",
    "from selenium import webdriver    # pip install selenium \n",
    "from webdriver_manager.chrome import ChromeDriverManager\n",
    "import time\n",
    "import pandas as pd\n",
    "from bs4 import BeautifulSoup    # pip install beautifulsoup4"
   ]
  },
  {
   "cell_type": "markdown",
   "id": "baadb475",
   "metadata": {},
   "source": [
    "# Deal with Infinite Scrolling Page"
   ]
  },
  {
   "cell_type": "markdown",
   "id": "8fede379",
   "metadata": {},
   "source": [
    "In order to use selenium, we need a web driver."
   ]
  },
  {
   "cell_type": "code",
   "execution_count": null,
   "id": "8d93cd32",
   "metadata": {},
   "outputs": [],
   "source": [
    "# Install Chrome Driver\n",
    "# Creating a webdriver instance\n",
    "driver = webdriver.Chrome(ChromeDriverManager().install())"
   ]
  },
  {
   "cell_type": "code",
   "execution_count": null,
   "id": "0bfb1859",
   "metadata": {},
   "outputs": [],
   "source": [
    "# Open Reddit search page by the keyword you specified\n",
    "keyword = 'spx'\n",
    "base_url = \"https://www.reddit.com/search/?q=\"\n",
    "driver.get(f\"{base_url}{keyword}\")\n",
    "\n",
    "# waiting for the page to load\n",
    "time.sleep(3)\n",
    "\n",
    "# Get the height of the searched results\n",
    "previous_height = driver.execute_script('return document.body.scrollHeight')"
   ]
  },
  {
   "cell_type": "markdown",
   "id": "d8dc848c",
   "metadata": {},
   "source": [
    "Now, we need to scroll to the bottom.If the new page "
   ]
  },
  {
   "cell_type": "code",
   "execution_count": null,
   "id": "37fff950",
   "metadata": {},
   "outputs": [],
   "source": [
    "# scroll to the bottom\n",
    "while True:\n",
    "    # Execute the scrolling\n",
    "    driver.execute_script('window.scrollTo(0, document.body.scrollHeight);')\n",
    "    # waiting for the page to load\n",
    "    time.sleep(3)\n",
    "    # get the new height of the searched results\n",
    "    new_height = driver.execute_script('return document.body.scrollHeight')\n",
    "    # if the height doesn't change, it means we have scrolled to the bottom\n",
    "    if new_height == previous_height:\n",
    "        break\n",
    "    previous_height = new_height"
   ]
  },
  {
   "cell_type": "markdown",
   "id": "972c963a",
   "metadata": {},
   "source": [
    "The page is now scrolled to the bottom. As the page is completely loaded, we will scrape the data we want."
   ]
  },
  {
   "cell_type": "markdown",
   "id": "f905510b",
   "metadata": {},
   "source": [
    "# Extract Data"
   ]
  },
  {
   "cell_type": "code",
   "execution_count": null,
   "id": "6d1e2188",
   "metadata": {},
   "outputs": [],
   "source": [
    "# create list variable to store the extracted data\n",
    "subredditList = []\n",
    "timestampList = []\n",
    "titleList = []\n",
    "upvoteList = []\n",
    "numberOfCommentList = []\n",
    "idList = []\n",
    "urlList = []"
   ]
  },
  {
   "cell_type": "code",
   "execution_count": null,
   "id": "b815a91e",
   "metadata": {},
   "outputs": [],
   "source": [
    "# Store the source code of the web page in a variable\n",
    "source = driver.page_source\n",
    "\n",
    "# Now using beautiful soup\n",
    "soup = BeautifulSoup(source, 'html.parser')"
   ]
  },
  {
   "cell_type": "code",
   "execution_count": null,
   "id": "78ca99c2",
   "metadata": {},
   "outputs": [],
   "source": [
    "# Find the source code for each post\n",
    "posts = soup.find_all(\"faceplate-tracker\", {\"source\": \"search\",\n",
    "                                              \"action\": \"view\",\n",
    "                                              \"noun\": \"post\",\n",
    "                                              \"data-testid\": \"search-post\"\n",
    "                                              })"
   ]
  },
  {
   "cell_type": "code",
   "execution_count": null,
   "id": "3b59c2bb",
   "metadata": {},
   "outputs": [],
   "source": [
    "# Extract the information we need\n",
    "for post in posts:\n",
    "    subredditList.append(post.find(\"a\", \n",
    "                          {\"class\": \"flex items-center text-neutral-content-weak font-semibold\"}).text.strip().split('/')[1])\n",
    "    \n",
    "\n",
    "    timestampList.append(post.find(\"faceplate-timeago\")['ts'])\n",
    "\n",
    "    titleList.append(post.find('a', {\"data-testid\": \"post-title\"}).text.split('\\n')[1].strip())\n",
    "\n",
    "    upvoteList.append(post.find(\"div\", {\"class\": \"text-neutral-content-weak text-12\"}).find_all('faceplate-number')[0]['number'])\n",
    "\n",
    "    numberOfCommentList.append(post.find(\"div\", {\"class\": \"text-neutral-content-weak text-12\"}).find_all('faceplate-number')[1]['number'])\n",
    "\n",
    "    idList.append(post.find(\"a\", \n",
    "                    {\"class\": \n",
    "                      \"text-16 xs:text-18 line-clamp-3 text-ellipsis text-neutral-content font-semibold mb-xs \"\n",
    "                      \"no-underline hover:no-underline\"})['id'].split('-')[-1]\n",
    "                  )\n",
    "    \n",
    "    urlList.append(post.find(\"a\", \n",
    "                    {\"class\": \n",
    "                      \"text-16 xs:text-18 line-clamp-3 text-ellipsis text-neutral-content font-semibold mb-xs \"\n",
    "                      \"no-underline hover:no-underline\"})['href']\n",
    "                    )"
   ]
  },
  {
   "cell_type": "code",
   "execution_count": null,
   "id": "e75aa0f2",
   "metadata": {},
   "outputs": [],
   "source": [
    "# Store the information into a Data Frame\n",
    "data = pd.DataFrame({\"subreddit\": subredditList,\n",
    "                      \"timestamp\": timestampList,\n",
    "                      \"title\": titleList,\n",
    "                      \"upvote\": upvoteList,\n",
    "                      \"number_of_comments\": numberOfCommentList,\n",
    "                      \"id\": idList,\n",
    "                      \"url\": urlList\n",
    "    })"
   ]
  },
  {
   "cell_type": "code",
   "execution_count": null,
   "id": "e024a701",
   "metadata": {},
   "outputs": [],
   "source": [
    "# Create a data column\n",
    "data['date'] = data['timestamp'].str[:10] "
   ]
  },
  {
   "cell_type": "code",
   "execution_count": null,
   "id": "c5b7e6d2",
   "metadata": {},
   "outputs": [],
   "source": [
    "data"
   ]
  }
 ],
 "metadata": {
  "kernelspec": {
   "display_name": "Python 3 (ipykernel)",
   "language": "python",
   "name": "python3"
  },
  "language_info": {
   "codemirror_mode": {
    "name": "ipython",
    "version": 3
   },
   "file_extension": ".py",
   "mimetype": "text/x-python",
   "name": "python",
   "nbconvert_exporter": "python",
   "pygments_lexer": "ipython3",
   "version": "3.8.3"
  }
 },
 "nbformat": 4,
 "nbformat_minor": 5
}
